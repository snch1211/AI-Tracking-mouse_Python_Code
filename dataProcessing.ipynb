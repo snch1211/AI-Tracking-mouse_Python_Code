{
 "cells": [
  {
   "cell_type": "code",
   "execution_count": 1,
   "metadata": {},
   "outputs": [],
   "source": [
    "import h5py\n",
    "import numpy as np\n",
    "import os\n",
    "import glob\n",
    "from sklearn.preprocessing import MinMaxScaler"
   ]
  },
  {
   "cell_type": "code",
   "execution_count": 2,
   "metadata": {},
   "outputs": [],
   "source": [
    "data_folder = \"./RecordGesture\"\n",
    "file_pattern = os.path.join(data_folder, '*.h5')  # 匹配所有 .h5 文件\n",
    "\n",
    "label_mapping = {\n",
    "    'Left': 1,\n",
    "    'PatPat': 0,\n",
    "    'Right': 2\n",
    "}\n",
    "\n",
    "all_images = []\n",
    "all_labels = []\n",
    "\n",
    "file_paths = glob.glob(file_pattern)\n",
    "\n",
    "scaler = MinMaxScaler()"
   ]
  },
  {
   "cell_type": "code",
   "execution_count": 3,
   "metadata": {},
   "outputs": [],
   "source": [
    "for file_path in file_paths:\n",
    "    \n",
    "    file_name = os.path.basename(file_path)\n",
    "    category = file_name.split('_')[0]  # 提取類別\n",
    "    \n",
    "    \n",
    "    if category in label_mapping:\n",
    "        \n",
    "        with h5py.File(file_path, 'r') as file:\n",
    "            \n",
    "            f = file['DS1']  \n",
    "            data = np.zeros([32, 64, 45], dtype = np.float16)\n",
    "            data[0:32, 0:32, 0:45] = f[0,0:32,0:32, 0:45]\n",
    "            data[0:32, 32:65, 0:45] = f[1,0:32,0:32, 0:45]\n",
    "            \n",
    "            # normalized\n",
    "            height, width, frames = data.shape\n",
    "            data_reshaped = data.reshape(-1, 1)\n",
    "            data_normalized_reshaped = scaler.fit_transform(data_reshaped)\n",
    "            data_normalized = data_normalized_reshaped.reshape(height, width, frames)\n",
    "            data = data_normalized\n",
    "            \n",
    "            \n",
    "            label = label_mapping[category]\n",
    "            \n",
    "            \n",
    "            all_images.append(data)  \n",
    "            all_labels.append(label)  "
   ]
  },
  {
   "cell_type": "code",
   "execution_count": 4,
   "metadata": {},
   "outputs": [],
   "source": [
    "all_images = np.array(all_images) \n",
    "all_labels = np.array(all_labels)"
   ]
  },
  {
   "cell_type": "code",
   "execution_count": 5,
   "metadata": {},
   "outputs": [],
   "source": [
    "def save_to_npz(images, labels, npz_file):\n",
    "    np.savez(npz_file, images=images, labels=labels)\n",
    "\n",
    "save_to_npz(all_images, all_labels, 'data_for_training.npz')"
   ]
  }
 ],
 "metadata": {
  "kernelspec": {
   "display_name": "Python 3",
   "language": "python",
   "name": "python3"
  },
  "language_info": {
   "codemirror_mode": {
    "name": "ipython",
    "version": 3
   },
   "file_extension": ".py",
   "mimetype": "text/x-python",
   "name": "python",
   "nbconvert_exporter": "python",
   "pygments_lexer": "ipython3",
   "version": "3.8.19"
  }
 },
 "nbformat": 4,
 "nbformat_minor": 2
}
